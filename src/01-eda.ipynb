{
 "cells": [
  {
   "cell_type": "code",
   "execution_count": 21,
   "metadata": {},
   "outputs": [],
   "source": [
    "import pandas as pd\n",
    "import numpy as np\n",
    "from pathlib import Path\n",
    "import re"
   ]
  },
  {
   "cell_type": "markdown",
   "metadata": {},
   "source": [
    "# Load Dataset"
   ]
  },
  {
   "cell_type": "code",
   "execution_count": 13,
   "metadata": {},
   "outputs": [],
   "source": [
    "path = Path.cwd().parents[0] / \"input/data.csv\"\n",
    "df = pd.read_csv(path, encoding= \"unicode_escape\")"
   ]
  },
  {
   "cell_type": "markdown",
   "metadata": {},
   "source": [
    "# Clean Dataset"
   ]
  },
  {
   "cell_type": "code",
   "execution_count": 79,
   "metadata": {},
   "outputs": [],
   "source": [
    "def clean_df(df: pd.DataFrame):\n",
    "    \"\"\"Clean dataframe.\n",
    "    \"\"\"\n",
    "    return (df\n",
    "        .rename(columns=lambda c: (re.sub(r\"([A-Z])\", r\" \\1\", c)\n",
    "                                .lower()\n",
    "                                .replace(\" i d\", \" id\")\n",
    "                                .strip()\n",
    "                                .replace(\" \", \"_\")\n",
    "                                )\n",
    "        )\n",
    "        .assign(\n",
    "            invoice_no= lambda df_: df_[\"invoice_no\"].astype(str).str.strip(), \n",
    "            stock_code= lambda df_: df_[\"stock_code\"].astype(str).str.strip(), \n",
    "            description= lambda df_: df_[\"description\"].str.title().str.strip(), \n",
    "            invoice_date=lambda df_: pd.to_datetime(df_[\"invoice_date\"]),\n",
    "            unit_price= lambda df_: df_[\"unit_price\"].astype(float),\n",
    "            country= lambda df_: df_[\"country\"].str.title().str.strip(), \n",
    "            total_price=lambda df_: df_[\"quantity\"].mul(df_[\"unit_price\"]).astype(float),\n",
    "        )\n",
    "        .loc[:, [\"invoice_no\", \"invoice_date\", \"description\", \"stock_code\", \"unit_price\", \n",
    "                \"quantity\", \"total_price\", \"customer_id\", \"country\"]]\n",
    "    )\n",
    "df_clean = clean_df(df)"
   ]
  },
  {
   "cell_type": "markdown",
   "metadata": {},
   "source": [
    "# EDA"
   ]
  },
  {
   "cell_type": "code",
   "execution_count": 80,
   "metadata": {},
   "outputs": [
    {
     "data": {
      "text/html": [
       "<div>\n",
       "<style scoped>\n",
       "    .dataframe tbody tr th:only-of-type {\n",
       "        vertical-align: middle;\n",
       "    }\n",
       "\n",
       "    .dataframe tbody tr th {\n",
       "        vertical-align: top;\n",
       "    }\n",
       "\n",
       "    .dataframe thead th {\n",
       "        text-align: right;\n",
       "    }\n",
       "</style>\n",
       "<table border=\"1\" class=\"dataframe\">\n",
       "  <thead>\n",
       "    <tr style=\"text-align: right;\">\n",
       "      <th></th>\n",
       "      <th>count</th>\n",
       "      <th>mean</th>\n",
       "      <th>min</th>\n",
       "      <th>25%</th>\n",
       "      <th>50%</th>\n",
       "      <th>75%</th>\n",
       "      <th>max</th>\n",
       "      <th>std</th>\n",
       "    </tr>\n",
       "  </thead>\n",
       "  <tbody>\n",
       "    <tr>\n",
       "      <th>invoice_date</th>\n",
       "      <td>541909</td>\n",
       "      <td>2011-07-04 13:34:57.156386048</td>\n",
       "      <td>2010-12-01 08:26:00</td>\n",
       "      <td>2011-03-28 11:34:00</td>\n",
       "      <td>2011-07-19 17:17:00</td>\n",
       "      <td>2011-10-19 11:27:00</td>\n",
       "      <td>2011-12-09 12:50:00</td>\n",
       "      <td>NaN</td>\n",
       "    </tr>\n",
       "    <tr>\n",
       "      <th>unit_price</th>\n",
       "      <td>541909.0</td>\n",
       "      <td>4.611114</td>\n",
       "      <td>-11062.06</td>\n",
       "      <td>1.25</td>\n",
       "      <td>2.08</td>\n",
       "      <td>4.13</td>\n",
       "      <td>38970.0</td>\n",
       "      <td>96.759853</td>\n",
       "    </tr>\n",
       "    <tr>\n",
       "      <th>quantity</th>\n",
       "      <td>541909.0</td>\n",
       "      <td>9.55225</td>\n",
       "      <td>-80995.0</td>\n",
       "      <td>1.0</td>\n",
       "      <td>3.0</td>\n",
       "      <td>10.0</td>\n",
       "      <td>80995.0</td>\n",
       "      <td>218.081158</td>\n",
       "    </tr>\n",
       "    <tr>\n",
       "      <th>total_price</th>\n",
       "      <td>541909.0</td>\n",
       "      <td>17.987795</td>\n",
       "      <td>-168469.6</td>\n",
       "      <td>3.4</td>\n",
       "      <td>9.75</td>\n",
       "      <td>17.4</td>\n",
       "      <td>168469.6</td>\n",
       "      <td>378.810824</td>\n",
       "    </tr>\n",
       "    <tr>\n",
       "      <th>customer_id</th>\n",
       "      <td>406829.0</td>\n",
       "      <td>15287.69057</td>\n",
       "      <td>12346.0</td>\n",
       "      <td>13953.0</td>\n",
       "      <td>15152.0</td>\n",
       "      <td>16791.0</td>\n",
       "      <td>18287.0</td>\n",
       "      <td>1713.600303</td>\n",
       "    </tr>\n",
       "  </tbody>\n",
       "</table>\n",
       "</div>"
      ],
      "text/plain": [
       "                 count                           mean                  min  \\\n",
       "invoice_date    541909  2011-07-04 13:34:57.156386048  2010-12-01 08:26:00   \n",
       "unit_price    541909.0                       4.611114            -11062.06   \n",
       "quantity      541909.0                        9.55225             -80995.0   \n",
       "total_price   541909.0                      17.987795            -168469.6   \n",
       "customer_id   406829.0                    15287.69057              12346.0   \n",
       "\n",
       "                              25%                  50%                  75%  \\\n",
       "invoice_date  2011-03-28 11:34:00  2011-07-19 17:17:00  2011-10-19 11:27:00   \n",
       "unit_price                   1.25                 2.08                 4.13   \n",
       "quantity                      1.0                  3.0                 10.0   \n",
       "total_price                   3.4                 9.75                 17.4   \n",
       "customer_id               13953.0              15152.0              16791.0   \n",
       "\n",
       "                              max          std  \n",
       "invoice_date  2011-12-09 12:50:00          NaN  \n",
       "unit_price                38970.0    96.759853  \n",
       "quantity                  80995.0   218.081158  \n",
       "total_price              168469.6   378.810824  \n",
       "customer_id               18287.0  1713.600303  "
      ]
     },
     "execution_count": 80,
     "metadata": {},
     "output_type": "execute_result"
    }
   ],
   "source": [
    "(df_clean\n",
    "    .describe()\n",
    "    .transpose()\n",
    ")"
   ]
  },
  {
   "cell_type": "code",
   "execution_count": 87,
   "metadata": {},
   "outputs": [
    {
     "data": {
      "text/html": [
       "<div>\n",
       "<style scoped>\n",
       "    .dataframe tbody tr th:only-of-type {\n",
       "        vertical-align: middle;\n",
       "    }\n",
       "\n",
       "    .dataframe tbody tr th {\n",
       "        vertical-align: top;\n",
       "    }\n",
       "\n",
       "    .dataframe thead th {\n",
       "        text-align: right;\n",
       "    }\n",
       "</style>\n",
       "<table border=\"1\" class=\"dataframe\">\n",
       "  <thead>\n",
       "    <tr style=\"text-align: right;\">\n",
       "      <th></th>\n",
       "      <th>num_unique_value</th>\n",
       "    </tr>\n",
       "  </thead>\n",
       "  <tbody>\n",
       "    <tr>\n",
       "      <th>invoice_no</th>\n",
       "      <td>25900</td>\n",
       "    </tr>\n",
       "    <tr>\n",
       "      <th>stock_code</th>\n",
       "      <td>4070</td>\n",
       "    </tr>\n",
       "    <tr>\n",
       "      <th>customer_id</th>\n",
       "      <td>4372</td>\n",
       "    </tr>\n",
       "    <tr>\n",
       "      <th>country</th>\n",
       "      <td>38</td>\n",
       "    </tr>\n",
       "  </tbody>\n",
       "</table>\n",
       "</div>"
      ],
      "text/plain": [
       "             num_unique_value\n",
       "invoice_no              25900\n",
       "stock_code               4070\n",
       "customer_id              4372\n",
       "country                    38"
      ]
     },
     "execution_count": 87,
     "metadata": {},
     "output_type": "execute_result"
    }
   ],
   "source": [
    "(df_clean\n",
    "    .loc[:, [\"invoice_no\", \"stock_code\", \"customer_id\", \"country\"]]\n",
    "    .nunique().to_frame(\"num_unique_value\")\n",
    ")"
   ]
  },
  {
   "cell_type": "code",
   "execution_count": 88,
   "metadata": {},
   "outputs": [
    {
     "data": {
      "text/html": [
       "<div>\n",
       "<style scoped>\n",
       "    .dataframe tbody tr th:only-of-type {\n",
       "        vertical-align: middle;\n",
       "    }\n",
       "\n",
       "    .dataframe tbody tr th {\n",
       "        vertical-align: top;\n",
       "    }\n",
       "\n",
       "    .dataframe thead th {\n",
       "        text-align: right;\n",
       "    }\n",
       "</style>\n",
       "<table border=\"1\" class=\"dataframe\">\n",
       "  <thead>\n",
       "    <tr style=\"text-align: right;\">\n",
       "      <th></th>\n",
       "      <th>num_null_rows</th>\n",
       "    </tr>\n",
       "  </thead>\n",
       "  <tbody>\n",
       "    <tr>\n",
       "      <th>invoice_no</th>\n",
       "      <td>0</td>\n",
       "    </tr>\n",
       "    <tr>\n",
       "      <th>invoice_date</th>\n",
       "      <td>0</td>\n",
       "    </tr>\n",
       "    <tr>\n",
       "      <th>description</th>\n",
       "      <td>1454</td>\n",
       "    </tr>\n",
       "    <tr>\n",
       "      <th>stock_code</th>\n",
       "      <td>0</td>\n",
       "    </tr>\n",
       "    <tr>\n",
       "      <th>unit_price</th>\n",
       "      <td>0</td>\n",
       "    </tr>\n",
       "    <tr>\n",
       "      <th>quantity</th>\n",
       "      <td>0</td>\n",
       "    </tr>\n",
       "    <tr>\n",
       "      <th>total_price</th>\n",
       "      <td>0</td>\n",
       "    </tr>\n",
       "    <tr>\n",
       "      <th>customer_id</th>\n",
       "      <td>135080</td>\n",
       "    </tr>\n",
       "    <tr>\n",
       "      <th>country</th>\n",
       "      <td>0</td>\n",
       "    </tr>\n",
       "  </tbody>\n",
       "</table>\n",
       "</div>"
      ],
      "text/plain": [
       "              num_null_rows\n",
       "invoice_no                0\n",
       "invoice_date              0\n",
       "description            1454\n",
       "stock_code                0\n",
       "unit_price                0\n",
       "quantity                  0\n",
       "total_price               0\n",
       "customer_id          135080\n",
       "country                   0"
      ]
     },
     "execution_count": 88,
     "metadata": {},
     "output_type": "execute_result"
    }
   ],
   "source": [
    "(df_clean\n",
    "    .isna().sum()\n",
    "    .to_frame(\"num_null_rows\")\n",
    ")"
   ]
  },
  {
   "cell_type": "markdown",
   "metadata": {},
   "source": [
    "Observations:\n",
    "- The dataset comprises of sales from **1 Dec 2010 to 9 Dec 2011**. \n",
    "- There are more than 500k entries, consisting of \n",
    "    - 25k invoices\n",
    "    - 4k types of item sold\n",
    "    - 4k customers\n",
    "    - 81k items sold\n",
    "    - 160k revenue\n",
    "- Customer ID and description has NULL rows."
   ]
  }
 ],
 "metadata": {
  "kernelspec": {
   "display_name": "ml",
   "language": "python",
   "name": "python3"
  },
  "language_info": {
   "codemirror_mode": {
    "name": "ipython",
    "version": 3
   },
   "file_extension": ".py",
   "mimetype": "text/x-python",
   "name": "python",
   "nbconvert_exporter": "python",
   "pygments_lexer": "ipython3",
   "version": "3.10.13"
  }
 },
 "nbformat": 4,
 "nbformat_minor": 2
}
