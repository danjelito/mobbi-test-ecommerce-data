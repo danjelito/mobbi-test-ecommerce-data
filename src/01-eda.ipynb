{
 "cells": [
  {
   "cell_type": "code",
   "execution_count": 25,
   "metadata": {},
   "outputs": [],
   "source": [
    "import pandas as pd\n",
    "import numpy as np\n",
    "from pathlib import Path\n",
    "import re"
   ]
  },
  {
   "cell_type": "markdown",
   "metadata": {},
   "source": [
    "# Load Dataset"
   ]
  },
  {
   "cell_type": "code",
   "execution_count": 26,
   "metadata": {},
   "outputs": [],
   "source": [
    "path = Path(\"../input/dataset.csv\")\n",
    "df = pd.read_csv(path, encoding= \"unicode_escape\")"
   ]
  },
  {
   "cell_type": "markdown",
   "metadata": {},
   "source": [
    "# Clean Dataset"
   ]
  },
  {
   "cell_type": "code",
   "execution_count": 27,
   "metadata": {},
   "outputs": [],
   "source": [
    "def clean_df(df: pd.DataFrame):\n",
    "    \"\"\"Clean dataframe.\n",
    "    \"\"\"\n",
    "    return (df\n",
    "        .rename(columns=lambda c: (re.sub(r\"([A-Z])\", r\" \\1\", c)\n",
    "                                .lower()\n",
    "                                .replace(\" i d\", \" id\")\n",
    "                                .strip()\n",
    "                                .replace(\" \", \"_\")\n",
    "                                )\n",
    "        )\n",
    "        .assign(\n",
    "            invoice_no= lambda df_: df_[\"invoice_no\"].astype(str).str.strip(), \n",
    "            stock_code= lambda df_: df_[\"stock_code\"].astype(str).str.strip(), \n",
    "            description= lambda df_: df_[\"description\"].str.title().str.strip(), \n",
    "            invoice_date=lambda df_: pd.to_datetime(df_[\"invoice_date\"]),\n",
    "            unit_price= lambda df_: df_[\"unit_price\"].astype(float),\n",
    "            country= lambda df_: df_[\"country\"].str.title().str.strip(), \n",
    "            total_price=lambda df_: df_[\"quantity\"].mul(df_[\"unit_price\"]).astype(float),\n",
    "        )\n",
    "        .loc[lambda df_: df_[\"quantity\"] > 0]\n",
    "        .loc[:, [\"invoice_no\", \"invoice_date\", \"description\", \"stock_code\", \"unit_price\", \n",
    "                \"quantity\", \"total_price\", \"customer_id\", \"country\"]]\n",
    "    )\n",
    "df_clean = clean_df(df)"
   ]
  },
  {
   "cell_type": "markdown",
   "metadata": {},
   "source": [
    "# Save Clean Dataset"
   ]
  },
  {
   "cell_type": "code",
   "execution_count": 28,
   "metadata": {},
   "outputs": [],
   "source": [
    "if not (path := Path(\"../input/dataset-clean.parquet\")).is_file():\n",
    "    df_clean.to_parquet(path)"
   ]
  },
  {
   "cell_type": "markdown",
   "metadata": {},
   "source": [
    "# EDA"
   ]
  },
  {
   "cell_type": "code",
   "execution_count": 29,
   "metadata": {},
   "outputs": [
    {
     "data": {
      "text/html": [
       "<div>\n",
       "<style scoped>\n",
       "    .dataframe tbody tr th:only-of-type {\n",
       "        vertical-align: middle;\n",
       "    }\n",
       "\n",
       "    .dataframe tbody tr th {\n",
       "        vertical-align: top;\n",
       "    }\n",
       "\n",
       "    .dataframe thead th {\n",
       "        text-align: right;\n",
       "    }\n",
       "</style>\n",
       "<table border=\"1\" class=\"dataframe\">\n",
       "  <thead>\n",
       "    <tr style=\"text-align: right;\">\n",
       "      <th></th>\n",
       "      <th>count</th>\n",
       "      <th>mean</th>\n",
       "      <th>min</th>\n",
       "      <th>25%</th>\n",
       "      <th>50%</th>\n",
       "      <th>75%</th>\n",
       "      <th>max</th>\n",
       "      <th>std</th>\n",
       "    </tr>\n",
       "  </thead>\n",
       "  <tbody>\n",
       "    <tr>\n",
       "      <th>invoice_date</th>\n",
       "      <td>531285</td>\n",
       "      <td>2011-07-04 18:15:45.816539136</td>\n",
       "      <td>2010-12-01 08:26:00</td>\n",
       "      <td>2011-03-28 11:59:00</td>\n",
       "      <td>2011-07-20 12:01:00</td>\n",
       "      <td>2011-10-19 12:35:00</td>\n",
       "      <td>2011-12-09 12:50:00</td>\n",
       "      <td>NaN</td>\n",
       "    </tr>\n",
       "    <tr>\n",
       "      <th>unit_price</th>\n",
       "      <td>531285.0</td>\n",
       "      <td>3.857296</td>\n",
       "      <td>-11062.06</td>\n",
       "      <td>1.25</td>\n",
       "      <td>2.08</td>\n",
       "      <td>4.13</td>\n",
       "      <td>13541.33</td>\n",
       "      <td>41.810047</td>\n",
       "    </tr>\n",
       "    <tr>\n",
       "      <th>quantity</th>\n",
       "      <td>531285.0</td>\n",
       "      <td>10.655262</td>\n",
       "      <td>1.0</td>\n",
       "      <td>1.0</td>\n",
       "      <td>3.0</td>\n",
       "      <td>10.0</td>\n",
       "      <td>80995.0</td>\n",
       "      <td>156.830323</td>\n",
       "    </tr>\n",
       "    <tr>\n",
       "      <th>total_price</th>\n",
       "      <td>531285.0</td>\n",
       "      <td>20.0355</td>\n",
       "      <td>-11062.06</td>\n",
       "      <td>3.75</td>\n",
       "      <td>9.9</td>\n",
       "      <td>17.7</td>\n",
       "      <td>168469.6</td>\n",
       "      <td>270.91237</td>\n",
       "    </tr>\n",
       "    <tr>\n",
       "      <th>customer_id</th>\n",
       "      <td>397924.0</td>\n",
       "      <td>15294.315171</td>\n",
       "      <td>12346.0</td>\n",
       "      <td>13969.0</td>\n",
       "      <td>15159.0</td>\n",
       "      <td>16795.0</td>\n",
       "      <td>18287.0</td>\n",
       "      <td>1713.169877</td>\n",
       "    </tr>\n",
       "  </tbody>\n",
       "</table>\n",
       "</div>"
      ],
      "text/plain": [
       "                 count                           mean                  min  \\\n",
       "invoice_date    531285  2011-07-04 18:15:45.816539136  2010-12-01 08:26:00   \n",
       "unit_price    531285.0                       3.857296            -11062.06   \n",
       "quantity      531285.0                      10.655262                  1.0   \n",
       "total_price   531285.0                        20.0355            -11062.06   \n",
       "customer_id   397924.0                   15294.315171              12346.0   \n",
       "\n",
       "                              25%                  50%                  75%  \\\n",
       "invoice_date  2011-03-28 11:59:00  2011-07-20 12:01:00  2011-10-19 12:35:00   \n",
       "unit_price                   1.25                 2.08                 4.13   \n",
       "quantity                      1.0                  3.0                 10.0   \n",
       "total_price                  3.75                  9.9                 17.7   \n",
       "customer_id               13969.0              15159.0              16795.0   \n",
       "\n",
       "                              max          std  \n",
       "invoice_date  2011-12-09 12:50:00          NaN  \n",
       "unit_price               13541.33    41.810047  \n",
       "quantity                  80995.0   156.830323  \n",
       "total_price              168469.6    270.91237  \n",
       "customer_id               18287.0  1713.169877  "
      ]
     },
     "execution_count": 29,
     "metadata": {},
     "output_type": "execute_result"
    }
   ],
   "source": [
    "(df_clean\n",
    "    .describe()\n",
    "    .transpose()\n",
    ")"
   ]
  },
  {
   "cell_type": "code",
   "execution_count": 30,
   "metadata": {},
   "outputs": [
    {
     "data": {
      "text/html": [
       "<div>\n",
       "<style scoped>\n",
       "    .dataframe tbody tr th:only-of-type {\n",
       "        vertical-align: middle;\n",
       "    }\n",
       "\n",
       "    .dataframe tbody tr th {\n",
       "        vertical-align: top;\n",
       "    }\n",
       "\n",
       "    .dataframe thead th {\n",
       "        text-align: right;\n",
       "    }\n",
       "</style>\n",
       "<table border=\"1\" class=\"dataframe\">\n",
       "  <thead>\n",
       "    <tr style=\"text-align: right;\">\n",
       "      <th></th>\n",
       "      <th>num_unique_value</th>\n",
       "    </tr>\n",
       "  </thead>\n",
       "  <tbody>\n",
       "    <tr>\n",
       "      <th>invoice_no</th>\n",
       "      <td>20728</td>\n",
       "    </tr>\n",
       "    <tr>\n",
       "      <th>stock_code</th>\n",
       "      <td>3941</td>\n",
       "    </tr>\n",
       "    <tr>\n",
       "      <th>customer_id</th>\n",
       "      <td>4339</td>\n",
       "    </tr>\n",
       "    <tr>\n",
       "      <th>country</th>\n",
       "      <td>38</td>\n",
       "    </tr>\n",
       "  </tbody>\n",
       "</table>\n",
       "</div>"
      ],
      "text/plain": [
       "             num_unique_value\n",
       "invoice_no              20728\n",
       "stock_code               3941\n",
       "customer_id              4339\n",
       "country                    38"
      ]
     },
     "execution_count": 30,
     "metadata": {},
     "output_type": "execute_result"
    }
   ],
   "source": [
    "(df_clean\n",
    "    .loc[:, [\"invoice_no\", \"stock_code\", \"customer_id\", \"country\"]]\n",
    "    .nunique().to_frame(\"num_unique_value\")\n",
    ")"
   ]
  },
  {
   "cell_type": "code",
   "execution_count": 31,
   "metadata": {},
   "outputs": [
    {
     "data": {
      "text/html": [
       "<div>\n",
       "<style scoped>\n",
       "    .dataframe tbody tr th:only-of-type {\n",
       "        vertical-align: middle;\n",
       "    }\n",
       "\n",
       "    .dataframe tbody tr th {\n",
       "        vertical-align: top;\n",
       "    }\n",
       "\n",
       "    .dataframe thead th {\n",
       "        text-align: right;\n",
       "    }\n",
       "</style>\n",
       "<table border=\"1\" class=\"dataframe\">\n",
       "  <thead>\n",
       "    <tr style=\"text-align: right;\">\n",
       "      <th></th>\n",
       "      <th>num_null_rows</th>\n",
       "    </tr>\n",
       "  </thead>\n",
       "  <tbody>\n",
       "    <tr>\n",
       "      <th>invoice_no</th>\n",
       "      <td>0</td>\n",
       "    </tr>\n",
       "    <tr>\n",
       "      <th>invoice_date</th>\n",
       "      <td>0</td>\n",
       "    </tr>\n",
       "    <tr>\n",
       "      <th>description</th>\n",
       "      <td>592</td>\n",
       "    </tr>\n",
       "    <tr>\n",
       "      <th>stock_code</th>\n",
       "      <td>0</td>\n",
       "    </tr>\n",
       "    <tr>\n",
       "      <th>unit_price</th>\n",
       "      <td>0</td>\n",
       "    </tr>\n",
       "    <tr>\n",
       "      <th>quantity</th>\n",
       "      <td>0</td>\n",
       "    </tr>\n",
       "    <tr>\n",
       "      <th>total_price</th>\n",
       "      <td>0</td>\n",
       "    </tr>\n",
       "    <tr>\n",
       "      <th>customer_id</th>\n",
       "      <td>133361</td>\n",
       "    </tr>\n",
       "    <tr>\n",
       "      <th>country</th>\n",
       "      <td>0</td>\n",
       "    </tr>\n",
       "  </tbody>\n",
       "</table>\n",
       "</div>"
      ],
      "text/plain": [
       "              num_null_rows\n",
       "invoice_no                0\n",
       "invoice_date              0\n",
       "description             592\n",
       "stock_code                0\n",
       "unit_price                0\n",
       "quantity                  0\n",
       "total_price               0\n",
       "customer_id          133361\n",
       "country                   0"
      ]
     },
     "execution_count": 31,
     "metadata": {},
     "output_type": "execute_result"
    }
   ],
   "source": [
    "(df_clean\n",
    "    .isna().sum()\n",
    "    .to_frame(\"num_null_rows\")\n",
    ")"
   ]
  },
  {
   "cell_type": "markdown",
   "metadata": {},
   "source": [
    "Observations:\n",
    "- The dataset comprises of sales from **1 Dec 2010 to 9 Dec 2011**. \n",
    "- There are more than 500k entries, consisting of \n",
    "    - 25k invoices\n",
    "    - 4k types of item sold\n",
    "    - 4k customers\n",
    "    - 81k items sold\n",
    "    - 160k revenue\n",
    "- Customer ID and description has NULL rows."
   ]
  }
 ],
 "metadata": {
  "kernelspec": {
   "display_name": "ml",
   "language": "python",
   "name": "python3"
  },
  "language_info": {
   "codemirror_mode": {
    "name": "ipython",
    "version": 3
   },
   "file_extension": ".py",
   "mimetype": "text/x-python",
   "name": "python",
   "nbconvert_exporter": "python",
   "pygments_lexer": "ipython3",
   "version": "3.10.13"
  }
 },
 "nbformat": 4,
 "nbformat_minor": 2
}
