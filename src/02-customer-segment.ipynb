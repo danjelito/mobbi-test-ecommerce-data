{
 "cells": [
  {
   "cell_type": "code",
   "execution_count": 56,
   "metadata": {},
   "outputs": [],
   "source": [
    "import importlib\n",
    "import warnings\n",
    "from pathlib import Path\n",
    "\n",
    "import matplotlib.pyplot as plt\n",
    "import numpy as np\n",
    "import pandas as pd\n",
    "import seaborn as sns\n",
    "from scipy import stats\n",
    "# clustering algorithms\n",
    "from sklearn.cluster import AgglomerativeClustering, KMeans, SpectralClustering\n",
    "from sklearn.metrics import silhouette_samples, silhouette_score\n",
    "from sklearn.preprocessing import StandardScaler\n",
    "from tqdm import tqdm\n",
    "from yellowbrick.cluster import KElbowVisualizer, SilhouetteVisualizer\n",
    "\n",
    "import module\n",
    "\n",
    "try:\n",
    "    importlib.reload(module) # reload module\n",
    "except NameError:\n",
    "    pass"
   ]
  },
  {
   "cell_type": "code",
   "execution_count": 62,
   "metadata": {},
   "outputs": [],
   "source": [
    "def catchstate(df, var_name: str) -> 'pd.DataFrame':\n",
    "    \"\"\"\n",
    "    Helper function that captures intermediate Dataframes mid-chain.\n",
    "    In the global namespace, make a new variable called var_name and set it to dataframe\n",
    "    \"\"\"\n",
    "    globals()[var_name] = df\n",
    "    return df"
   ]
  },
  {
   "cell_type": "markdown",
   "metadata": {},
   "source": [
    "# Load Dataset"
   ]
  },
  {
   "cell_type": "code",
   "execution_count": 29,
   "metadata": {},
   "outputs": [],
   "source": [
    "path = Path(\"../input/dataset-clean.parquet\")\n",
    "df = pd.read_parquet(path)"
   ]
  },
  {
   "cell_type": "markdown",
   "metadata": {},
   "source": [
    "# Feature Engineering"
   ]
  },
  {
   "cell_type": "code",
   "execution_count": 30,
   "metadata": {},
   "outputs": [
    {
     "data": {
      "text/html": [
       "<div>\n",
       "<style scoped>\n",
       "    .dataframe tbody tr th:only-of-type {\n",
       "        vertical-align: middle;\n",
       "    }\n",
       "\n",
       "    .dataframe tbody tr th {\n",
       "        vertical-align: top;\n",
       "    }\n",
       "\n",
       "    .dataframe thead th {\n",
       "        text-align: right;\n",
       "    }\n",
       "</style>\n",
       "<table border=\"1\" class=\"dataframe\">\n",
       "  <thead>\n",
       "    <tr style=\"text-align: right;\">\n",
       "      <th></th>\n",
       "      <th>invoice_no</th>\n",
       "      <th>invoice_date</th>\n",
       "      <th>description</th>\n",
       "      <th>stock_code</th>\n",
       "      <th>unit_price</th>\n",
       "      <th>quantity</th>\n",
       "      <th>total_price</th>\n",
       "      <th>customer_id</th>\n",
       "      <th>country</th>\n",
       "    </tr>\n",
       "  </thead>\n",
       "  <tbody>\n",
       "    <tr>\n",
       "      <th>0</th>\n",
       "      <td>536365</td>\n",
       "      <td>2010-12-01 08:26:00</td>\n",
       "      <td>White Hanging Heart T-Light Holder</td>\n",
       "      <td>85123A</td>\n",
       "      <td>2.55</td>\n",
       "      <td>6</td>\n",
       "      <td>15.30</td>\n",
       "      <td>17850.0</td>\n",
       "      <td>United Kingdom</td>\n",
       "    </tr>\n",
       "    <tr>\n",
       "      <th>1</th>\n",
       "      <td>536365</td>\n",
       "      <td>2010-12-01 08:26:00</td>\n",
       "      <td>White Metal Lantern</td>\n",
       "      <td>71053</td>\n",
       "      <td>3.39</td>\n",
       "      <td>6</td>\n",
       "      <td>20.34</td>\n",
       "      <td>17850.0</td>\n",
       "      <td>United Kingdom</td>\n",
       "    </tr>\n",
       "    <tr>\n",
       "      <th>2</th>\n",
       "      <td>536365</td>\n",
       "      <td>2010-12-01 08:26:00</td>\n",
       "      <td>Cream Cupid Hearts Coat Hanger</td>\n",
       "      <td>84406B</td>\n",
       "      <td>2.75</td>\n",
       "      <td>8</td>\n",
       "      <td>22.00</td>\n",
       "      <td>17850.0</td>\n",
       "      <td>United Kingdom</td>\n",
       "    </tr>\n",
       "    <tr>\n",
       "      <th>3</th>\n",
       "      <td>536365</td>\n",
       "      <td>2010-12-01 08:26:00</td>\n",
       "      <td>Knitted Union Flag Hot Water Bottle</td>\n",
       "      <td>84029G</td>\n",
       "      <td>3.39</td>\n",
       "      <td>6</td>\n",
       "      <td>20.34</td>\n",
       "      <td>17850.0</td>\n",
       "      <td>United Kingdom</td>\n",
       "    </tr>\n",
       "    <tr>\n",
       "      <th>4</th>\n",
       "      <td>536365</td>\n",
       "      <td>2010-12-01 08:26:00</td>\n",
       "      <td>Red Woolly Hottie White Heart.</td>\n",
       "      <td>84029E</td>\n",
       "      <td>3.39</td>\n",
       "      <td>6</td>\n",
       "      <td>20.34</td>\n",
       "      <td>17850.0</td>\n",
       "      <td>United Kingdom</td>\n",
       "    </tr>\n",
       "  </tbody>\n",
       "</table>\n",
       "</div>"
      ],
      "text/plain": [
       "  invoice_no        invoice_date                          description  \\\n",
       "0     536365 2010-12-01 08:26:00   White Hanging Heart T-Light Holder   \n",
       "1     536365 2010-12-01 08:26:00                  White Metal Lantern   \n",
       "2     536365 2010-12-01 08:26:00       Cream Cupid Hearts Coat Hanger   \n",
       "3     536365 2010-12-01 08:26:00  Knitted Union Flag Hot Water Bottle   \n",
       "4     536365 2010-12-01 08:26:00       Red Woolly Hottie White Heart.   \n",
       "\n",
       "  stock_code  unit_price  quantity  total_price  customer_id         country  \n",
       "0     85123A        2.55         6        15.30      17850.0  United Kingdom  \n",
       "1      71053        3.39         6        20.34      17850.0  United Kingdom  \n",
       "2     84406B        2.75         8        22.00      17850.0  United Kingdom  \n",
       "3     84029G        3.39         6        20.34      17850.0  United Kingdom  \n",
       "4     84029E        3.39         6        20.34      17850.0  United Kingdom  "
      ]
     },
     "execution_count": 30,
     "metadata": {},
     "output_type": "execute_result"
    }
   ],
   "source": [
    "df.head()"
   ]
  },
  {
   "cell_type": "code",
   "execution_count": 63,
   "metadata": {},
   "outputs": [],
   "source": [
    "def prepare_for_segmentation(df):\n",
    "    \"\"\"Do feature engineering on dataset for segmentation.\"\"\"\n",
    "    return (df\n",
    "        .groupby(\"customer_id\")\n",
    "        .agg(\n",
    "            n_purchase = (\"invoice_no\", \"nunique\"), \n",
    "            n_item_purchased = (\"quantity\", \"sum\"),\n",
    "            n_unique_item_purchased = (\"stock_code\", \"nunique\"),\n",
    "            total_revenue = (\"total_price\", \"sum\"),\n",
    "            avg_revenue_per_item = (\"unit_price\", \"mean\"),\n",
    "            country = (\"country\", lambda x: x.unique()[0].lower()),\n",
    "            recency = (\"invoice_date\", lambda x: (df[\"invoice_date\"].max() - x.max()).days),\n",
    "        )    \n",
    "        .assign(\n",
    "            country_mapped = lambda df_: df_[\"country\"].rank(method='dense', ascending=False).astype(int),\n",
    "            avg_revenue_per_purchase = lambda df_: df_[\"total_revenue\"].div(df_[\"n_purchase\"]), \n",
    "        )\n",
    "        .reset_index()\n",
    "        .pipe(catchstate, var_name=\"df_intermediate\")\n",
    "        .drop(columns=\"country\")\n",
    "    )\n",
    "\n",
    "df_clean = prepare_for_segmentation(df)"
   ]
  },
  {
   "cell_type": "code",
   "execution_count": 70,
   "metadata": {},
   "outputs": [],
   "source": [
    "country_map = (df_intermediate\n",
    "    .loc[:, [\"country\", \"country_mapped\"]]\n",
    "    .drop_duplicates()\n",
    "    .sort_values(\"country_mapped\", ignore_index=True)\n",
    ")"
   ]
  },
  {
   "cell_type": "markdown",
   "metadata": {},
   "source": [
    "# T"
   ]
  },
  {
   "cell_type": "code",
   "execution_count": null,
   "metadata": {},
   "outputs": [],
   "source": [
    "columns= ['age', 'income', 'total_spent', 'total_purchase']\n",
    "scaler= StandardScaler()\n",
    "\n",
    "X= pd.DataFrame(df\n",
    "    .pipe(module.drop_outliers, columns, 'z_score')\n",
    "    .pipe(pd.get_dummies)\n",
    "    .pipe(scaler.fit_transform)\n",
    ")\n",
    "module.hopkins_test(X)"
   ]
  }
 ],
 "metadata": {
  "kernelspec": {
   "display_name": "ml",
   "language": "python",
   "name": "python3"
  },
  "language_info": {
   "codemirror_mode": {
    "name": "ipython",
    "version": 3
   },
   "file_extension": ".py",
   "mimetype": "text/x-python",
   "name": "python",
   "nbconvert_exporter": "python",
   "pygments_lexer": "ipython3",
   "version": "3.10.13"
  }
 },
 "nbformat": 4,
 "nbformat_minor": 2
}
